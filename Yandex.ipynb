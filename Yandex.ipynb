{
 "cells": [
  {
   "cell_type": "markdown",
   "metadata": {},
   "source": [
    "## Task 2. "
   ]
  },
  {
   "cell_type": "code",
   "execution_count": 198,
   "metadata": {},
   "outputs": [],
   "source": [
    "import pandas as pd\n",
    "import numpy as np"
   ]
  },
  {
   "cell_type": "code",
   "execution_count": 244,
   "metadata": {},
   "outputs": [],
   "source": [
    "from shapely.geometry import Point\n",
    "from shapely.geometry.polygon import Polygon\n",
    "from shapely.ops import transform\n",
    "\n",
    "import pyproj\n",
    "from functools import partial"
   ]
  },
  {
   "cell_type": "code",
   "execution_count": 200,
   "metadata": {},
   "outputs": [],
   "source": [
    "user_df = pd.read_csv('user_coordinates.csv')"
   ]
  },
  {
   "cell_type": "code",
   "execution_count": 201,
   "metadata": {
    "scrolled": true
   },
   "outputs": [
    {
     "data": {
      "text/html": [
       "<div>\n",
       "<style scoped>\n",
       "    .dataframe tbody tr th:only-of-type {\n",
       "        vertical-align: middle;\n",
       "    }\n",
       "\n",
       "    .dataframe tbody tr th {\n",
       "        vertical-align: top;\n",
       "    }\n",
       "\n",
       "    .dataframe thead th {\n",
       "        text-align: right;\n",
       "    }\n",
       "</style>\n",
       "<table border=\"1\" class=\"dataframe\">\n",
       "  <thead>\n",
       "    <tr style=\"text-align: right;\">\n",
       "      <th></th>\n",
       "      <th>user_id</th>\n",
       "      <th>loc_lat</th>\n",
       "      <th>loc_lon</th>\n",
       "    </tr>\n",
       "  </thead>\n",
       "  <tbody>\n",
       "    <tr>\n",
       "      <th>0</th>\n",
       "      <td>1</td>\n",
       "      <td>55.737564</td>\n",
       "      <td>37.345186</td>\n",
       "    </tr>\n",
       "    <tr>\n",
       "      <th>1</th>\n",
       "      <td>2</td>\n",
       "      <td>56.234564</td>\n",
       "      <td>37.234590</td>\n",
       "    </tr>\n",
       "    <tr>\n",
       "      <th>2</th>\n",
       "      <td>3</td>\n",
       "      <td>55.234578</td>\n",
       "      <td>36.295745</td>\n",
       "    </tr>\n",
       "    <tr>\n",
       "      <th>3</th>\n",
       "      <td>4</td>\n",
       "      <td>55.764578</td>\n",
       "      <td>38.295745</td>\n",
       "    </tr>\n",
       "  </tbody>\n",
       "</table>\n",
       "</div>"
      ],
      "text/plain": [
       "   user_id    loc_lat    loc_lon\n",
       "0        1  55.737564  37.345186\n",
       "1        2  56.234564  37.234590\n",
       "2        3  55.234578  36.295745\n",
       "3        4  55.764578  38.295745"
      ]
     },
     "execution_count": 201,
     "metadata": {},
     "output_type": "execute_result"
    }
   ],
   "source": [
    "user_df"
   ]
  },
  {
   "cell_type": "code",
   "execution_count": 202,
   "metadata": {},
   "outputs": [],
   "source": [
    "plgn_df = pd.read_csv('place_zone_coordinates.csv')"
   ]
  },
  {
   "cell_type": "code",
   "execution_count": 203,
   "metadata": {
    "scrolled": true
   },
   "outputs": [
    {
     "data": {
      "text/html": [
       "<div>\n",
       "<style scoped>\n",
       "    .dataframe tbody tr th:only-of-type {\n",
       "        vertical-align: middle;\n",
       "    }\n",
       "\n",
       "    .dataframe tbody tr th {\n",
       "        vertical-align: top;\n",
       "    }\n",
       "\n",
       "    .dataframe thead th {\n",
       "        text-align: right;\n",
       "    }\n",
       "</style>\n",
       "<table border=\"1\" class=\"dataframe\">\n",
       "  <thead>\n",
       "    <tr style=\"text-align: right;\">\n",
       "      <th></th>\n",
       "      <th>place_id</th>\n",
       "      <th>loc_lat</th>\n",
       "      <th>loc_lon</th>\n",
       "      <th>point_number</th>\n",
       "    </tr>\n",
       "  </thead>\n",
       "  <tbody>\n",
       "    <tr>\n",
       "      <th>0</th>\n",
       "      <td>1</td>\n",
       "      <td>55.747022</td>\n",
       "      <td>37.787073</td>\n",
       "      <td>0</td>\n",
       "    </tr>\n",
       "    <tr>\n",
       "      <th>1</th>\n",
       "      <td>1</td>\n",
       "      <td>55.751713</td>\n",
       "      <td>37.784328</td>\n",
       "      <td>1</td>\n",
       "    </tr>\n",
       "    <tr>\n",
       "      <th>2</th>\n",
       "      <td>1</td>\n",
       "      <td>55.753878</td>\n",
       "      <td>37.777638</td>\n",
       "      <td>2</td>\n",
       "    </tr>\n",
       "    <tr>\n",
       "      <th>3</th>\n",
       "      <td>1</td>\n",
       "      <td>55.751031</td>\n",
       "      <td>37.779351</td>\n",
       "      <td>3</td>\n",
       "    </tr>\n",
       "    <tr>\n",
       "      <th>4</th>\n",
       "      <td>2</td>\n",
       "      <td>55.803885</td>\n",
       "      <td>37.458311</td>\n",
       "      <td>0</td>\n",
       "    </tr>\n",
       "    <tr>\n",
       "      <th>5</th>\n",
       "      <td>2</td>\n",
       "      <td>55.808677</td>\n",
       "      <td>37.464054</td>\n",
       "      <td>1</td>\n",
       "    </tr>\n",
       "    <tr>\n",
       "      <th>6</th>\n",
       "      <td>2</td>\n",
       "      <td>55.809763</td>\n",
       "      <td>37.461314</td>\n",
       "      <td>2</td>\n",
       "    </tr>\n",
       "    <tr>\n",
       "      <th>7</th>\n",
       "      <td>2</td>\n",
       "      <td>55.810840</td>\n",
       "      <td>37.458654</td>\n",
       "      <td>3</td>\n",
       "    </tr>\n",
       "  </tbody>\n",
       "</table>\n",
       "</div>"
      ],
      "text/plain": [
       "   place_id    loc_lat    loc_lon  point_number\n",
       "0         1  55.747022  37.787073             0\n",
       "1         1  55.751713  37.784328             1\n",
       "2         1  55.753878  37.777638             2\n",
       "3         1  55.751031  37.779351             3\n",
       "4         2  55.803885  37.458311             0\n",
       "5         2  55.808677  37.464054             1\n",
       "6         2  55.809763  37.461314             2\n",
       "7         2  55.810840  37.458654             3"
      ]
     },
     "execution_count": 203,
     "metadata": {},
     "output_type": "execute_result"
    }
   ],
   "source": [
    "plgn_df"
   ]
  },
  {
   "cell_type": "code",
   "execution_count": 204,
   "metadata": {},
   "outputs": [],
   "source": [
    "def make_plgn_dict(file):\n",
    "    plgn_dict = {}  \n",
    "    for row in file.iterrows():\n",
    "        plgn_id = row[1][0]\n",
    "        plgn_dict.setdefault(plgn_id, [])        \n",
    "        plgn_dict[plgn_id].append((row[1][1], row[1][2]))\n",
    "    return plgn_dict   "
   ]
  },
  {
   "cell_type": "code",
   "execution_count": 205,
   "metadata": {
    "scrolled": true
   },
   "outputs": [],
   "source": [
    "polygon_dict = make_plgn_dict(plgn_df)"
   ]
  },
  {
   "cell_type": "code",
   "execution_count": 245,
   "metadata": {},
   "outputs": [
    {
     "name": "stderr",
     "output_type": "stream",
     "text": [
      "/usr/local/anaconda3/lib/python3.8/site-packages/pyproj/crs/crs.py:53: FutureWarning: '+init=<authority>:<code>' syntax is deprecated. '<authority>:<code>' is the preferred initialization method. When making the change, be mindful of axis order changes: https://pyproj4.github.io/pyproj/stable/gotchas.html#axis-order-changes-in-proj-6\n",
      "  return _prepare_from_string(\" \".join(pjargs))\n",
      "/usr/local/anaconda3/lib/python3.8/site-packages/pyproj/crs/crs.py:294: FutureWarning: '+init=<authority>:<code>' syntax is deprecated. '<authority>:<code>' is the preferred initialization method. When making the change, be mindful of axis order changes: https://pyproj4.github.io/pyproj/stable/gotchas.html#axis-order-changes-in-proj-6\n",
      "  projstring = _prepare_from_string(\" \".join((projstring, projkwargs)))\n"
     ]
    }
   ],
   "source": [
    "project = partial(\n",
    "    pyproj.transform,\n",
    "    pyproj.Proj(init='epsg:4326'),\n",
    "    pyproj.Proj('+proj=merc +a=6378137 +b=6378137 +lat_ts=0.0 +lon_0=0.0 +x_0=0.0 +y_0=0 +k=1.0 +units=m +nadgrids=@null +no_defs'))"
   ]
  },
  {
   "cell_type": "code",
   "execution_count": 207,
   "metadata": {},
   "outputs": [],
   "source": [
    "def search(row):\n",
    "    number_of_places_available = 0\n",
    "    for value in polygon_dict.values():\n",
    "        poly = Polygon(value)\n",
    "        poly_g = transform(project, poly)\n",
    "        if poly_g.contains(Point([row['loc_lat'], row['loc_lon']])) == True:\n",
    "            number_of_places_available += 1\n",
    "    return number_of_places_available  "
   ]
  },
  {
   "cell_type": "code",
   "execution_count": 128,
   "metadata": {
    "scrolled": true
   },
   "outputs": [],
   "source": [
    "user_df['number_of_places_available'] = user_df.apply(search, axis=1)"
   ]
  },
  {
   "cell_type": "code",
   "execution_count": 130,
   "metadata": {
    "scrolled": true
   },
   "outputs": [
    {
     "data": {
      "text/html": [
       "<div>\n",
       "<style scoped>\n",
       "    .dataframe tbody tr th:only-of-type {\n",
       "        vertical-align: middle;\n",
       "    }\n",
       "\n",
       "    .dataframe tbody tr th {\n",
       "        vertical-align: top;\n",
       "    }\n",
       "\n",
       "    .dataframe thead th {\n",
       "        text-align: right;\n",
       "    }\n",
       "</style>\n",
       "<table border=\"1\" class=\"dataframe\">\n",
       "  <thead>\n",
       "    <tr style=\"text-align: right;\">\n",
       "      <th></th>\n",
       "      <th>user_id</th>\n",
       "      <th>number_of_places_available</th>\n",
       "    </tr>\n",
       "  </thead>\n",
       "  <tbody>\n",
       "    <tr>\n",
       "      <th>0</th>\n",
       "      <td>1</td>\n",
       "      <td>0</td>\n",
       "    </tr>\n",
       "    <tr>\n",
       "      <th>1</th>\n",
       "      <td>2</td>\n",
       "      <td>0</td>\n",
       "    </tr>\n",
       "    <tr>\n",
       "      <th>2</th>\n",
       "      <td>3</td>\n",
       "      <td>0</td>\n",
       "    </tr>\n",
       "    <tr>\n",
       "      <th>3</th>\n",
       "      <td>4</td>\n",
       "      <td>0</td>\n",
       "    </tr>\n",
       "  </tbody>\n",
       "</table>\n",
       "</div>"
      ],
      "text/plain": [
       "   user_id  number_of_places_available\n",
       "0        1                           0\n",
       "1        2                           0\n",
       "2        3                           0\n",
       "3        4                           0"
      ]
     },
     "execution_count": 130,
     "metadata": {},
     "output_type": "execute_result"
    }
   ],
   "source": [
    "user_df[['user_id', 'number_of_places_available']]"
   ]
  },
  {
   "cell_type": "markdown",
   "metadata": {},
   "source": [
    "**Что непосредственно делает pyproj? Проецирует географические координаты на сферический Меркатор. Ниже в качестве примера взят первый полигон и первый юзер и посчитано расстояние между ними до использования pyproj и после.**"
   ]
  },
  {
   "cell_type": "code",
   "execution_count": 238,
   "metadata": {},
   "outputs": [],
   "source": [
    "a = (([55.747021999999994, 37.787073],\n",
    "  [55.751713, 37.784328],\n",
    "  [55.753878, 37.777638],\n",
    "  [55.751031000000005, 37.779351]))"
   ]
  },
  {
   "cell_type": "code",
   "execution_count": 239,
   "metadata": {},
   "outputs": [],
   "source": [
    "poly = Polygon(a)"
   ]
  },
  {
   "cell_type": "code",
   "execution_count": 241,
   "metadata": {},
   "outputs": [],
   "source": [
    "point = Point(55.737564, 37.345186)"
   ]
  },
  {
   "cell_type": "code",
   "execution_count": 242,
   "metadata": {},
   "outputs": [
    {
     "data": {
      "text/plain": [
       "0.4327596086743821"
      ]
     },
     "execution_count": 242,
     "metadata": {},
     "output_type": "execute_result"
    }
   ],
   "source": [
    "poly.contains(point)\n",
    "poly.distance(point)"
   ]
  },
  {
   "cell_type": "code",
   "execution_count": 246,
   "metadata": {},
   "outputs": [],
   "source": [
    "poly_g = transform(project, poly)\n",
    "p1_g = transform(project, point)"
   ]
  },
  {
   "cell_type": "code",
   "execution_count": 248,
   "metadata": {},
   "outputs": [
    {
     "data": {
      "text/plain": [
       "60757.01056610022"
      ]
     },
     "execution_count": 248,
     "metadata": {},
     "output_type": "execute_result"
    }
   ],
   "source": [
    "poly_g.contains(p1_g) \n",
    "poly_g.distance(p1_g)"
   ]
  },
  {
   "cell_type": "markdown",
   "metadata": {},
   "source": [
    "## Task 3.\n",
    "\n",
    "Мы в Яндекс.Еде любим поиграть в покер и настольные игры. Поэтому нам важно, чтобы будущие коллеги были сильны в математической статистике и теории вероятностей (так интереснее играть))) Если серьезно, то в большинстве аналитических задач у нас возникает необходимость применять математический аппарат в том или ином виде. Проще всего его проверить через учебные игровые задачи, чтобы не погружать в сложный контекст бизнеса. Вы подбрасываете кубик (6 граней), после чего у вас есть две возможности:\n",
    "\n",
    "Взять себе сумму  ,равнуювыпавшемунакубикечислу(выпало3–получаете3 ) Отклонить результат первого броска и подбросить кубик второй раз. После чего уже взять себе столько $, сколько выпало во второй раз (второй бросок отклонять уже нельзя) Какую стратегию нужно выбрать, чтобы максимизировать ожидаемую прибыль (при каких значениях первого броска нужно перебрасывать?) Почему эта стратегия максимизирует прибыль?\n",
    "\n",
    "Чему равна ожидаемая прибыль при этой стратегии (математическое ожидание)?\n",
    "\n",
    "Моделирование различных вариантов бросков."
   ]
  },
  {
   "cell_type": "code",
   "execution_count": 14,
   "metadata": {},
   "outputs": [
    {
     "name": "stdout",
     "output_type": "stream",
     "text": [
      "3.50686\n"
     ]
    }
   ],
   "source": [
    "# Расчет мат.ожидания при разовом броске\n",
    "\n",
    "import numpy as np\n",
    "\n",
    "trials = 100000    # Количество попыток\n",
    "money = 0\n",
    "\n",
    "for i in range(trials):\n",
    "    random_score = np.random.randint(1, 7)    \n",
    "    if random_score == 1:\n",
    "        money += 1\n",
    "    elif random_score == 2:\n",
    "        money += 2\n",
    "    elif random_score == 3:\n",
    "        money += 3\n",
    "    elif random_score == 4:\n",
    "        money += 4\n",
    "    elif random_score == 5:\n",
    "        money += 5\n",
    "    elif random_score == 6:\n",
    "        money += 6\n",
    "        \n",
    "mean_gain = money/trials\n",
    "print(mean_gain)"
   ]
  },
  {
   "cell_type": "code",
   "execution_count": 15,
   "metadata": {},
   "outputs": [
    {
     "name": "stdout",
     "output_type": "stream",
     "text": [
      "3.916687\n"
     ]
    }
   ],
   "source": [
    "# перебрасываем кубик при выпадении 1, 2, 3, 4, 5\n",
    "# возможные варианты: 6 1 2 3 4 5 6\n",
    "# мат ожидание 1/6(6)+5/6(3,5) = 1 + 2,92 = 3,92\n",
    "\n",
    "\n",
    "trials = 100000000    # Количество попыток\n",
    "money = 0\n",
    "\n",
    "for i in range(trials):\n",
    "    random_score = np.random.randint(1, 7)    \n",
    "    if random_score in [1,2,3,4,5]:\n",
    "        random_score = np.random.randint(1, 7) \n",
    "        if random_score == 1:\n",
    "            money += 1\n",
    "        elif random_score == 2:\n",
    "            money += 2\n",
    "        elif random_score == 3:\n",
    "            money += 3\n",
    "        elif random_score == 4:\n",
    "            money += 4\n",
    "        elif random_score == 5:\n",
    "            money += 5\n",
    "        elif random_score == 6:\n",
    "                money += 6\n",
    "    else:\n",
    "        money += 6\n",
    "       \n",
    "        \n",
    "mean_gain = money/trials\n",
    "print(mean_gain)"
   ]
  },
  {
   "cell_type": "code",
   "execution_count": 16,
   "metadata": {},
   "outputs": [
    {
     "name": "stdout",
     "output_type": "stream",
     "text": [
      "4.1658322\n"
     ]
    }
   ],
   "source": [
    "# перебрасываем кубик при выпадении 1, 2, 3, 4\n",
    "# возможные варианты: 5 6 1 2 3 4 5 6\n",
    "# мат ожидание 1/3(5,5)+2/3(3,5) = 1,83 + 2,33 = 4,16\n",
    "\n",
    "trials = 10000000    # Количество попыток\n",
    "money = 0\n",
    "\n",
    "for i in range(trials):\n",
    "    random_score = np.random.randint(1, 7)       \n",
    "    if random_score in [1,2,3,4]:\n",
    "        random_score = np.random.randint(1, 7)  \n",
    "        if random_score == 1:\n",
    "            money += 1\n",
    "        elif random_score == 2:\n",
    "            money += 2\n",
    "        elif random_score == 3:\n",
    "            money += 3\n",
    "        elif random_score == 4:\n",
    "            money += 4\n",
    "        elif random_score == 5:\n",
    "            money += 5\n",
    "        elif random_score == 6:\n",
    "                money += 6\n",
    "    else:\n",
    "        if random_score == 5:\n",
    "            money += 5\n",
    "        else:\n",
    "            money += 6\n",
    "       \n",
    "        \n",
    "mean_gain = money/trials\n",
    "print(mean_gain)"
   ]
  },
  {
   "cell_type": "code",
   "execution_count": 17,
   "metadata": {},
   "outputs": [
    {
     "name": "stdout",
     "output_type": "stream",
     "text": [
      "4.249648\n"
     ]
    }
   ],
   "source": [
    "# перебрасываем кубик при выпадении 1, 2, 3\n",
    "# возможные варианты: 4 5 6 1 2 3 4 5 6\n",
    "# мат ожидание 1/2(5)+1/2(3,5) = 2,5 + 1,75 = 4,25\n",
    "\n",
    "trials = 10000000    # Количество попыток\n",
    "money = 0\n",
    "\n",
    "for i in range(trials):\n",
    "    random_score = np.random.randint(1, 7)    \n",
    "    if random_score in [1,2,3]:\n",
    "        random_score = np.random.randint(1, 7) \n",
    "        if random_score == 1:\n",
    "            money += 1\n",
    "        elif random_score == 2:\n",
    "            money += 2\n",
    "        elif random_score == 3:\n",
    "            money += 3\n",
    "        elif random_score == 4:\n",
    "            money += 4\n",
    "        elif random_score == 5:\n",
    "            money += 5\n",
    "        elif random_score == 6:\n",
    "                money += 6\n",
    "    else:\n",
    "        if random_score == 4:\n",
    "            money += 4\n",
    "        elif random_score == 5:\n",
    "            money += 5\n",
    "        else:\n",
    "            money += 6\n",
    "       \n",
    "        \n",
    "mean_gain = money/trials\n",
    "print(mean_gain)"
   ]
  },
  {
   "cell_type": "code",
   "execution_count": 18,
   "metadata": {},
   "outputs": [
    {
     "name": "stdout",
     "output_type": "stream",
     "text": [
      "4.16303\n"
     ]
    }
   ],
   "source": [
    "# перебрасываем кубик при выпадении 1, 2\n",
    "# возможные варианты: 3 4 5 6 1 2 3 4 5 6\n",
    "# мат ожидание 2/3(4,5)+1/3(3,5) = 3 + 1,17 = 4,17\n",
    "\n",
    "\n",
    "trials = 100000    # Количество попыток\n",
    "money = 0\n",
    "\n",
    "for i in range(trials):\n",
    "    random_score = np.random.randint(1, 7)    \n",
    "    if random_score in [1,2]:\n",
    "        random_score = np.random.randint(1, 7) \n",
    "        if random_score == 1:\n",
    "            money += 1\n",
    "        elif random_score == 2:\n",
    "            money += 2\n",
    "        elif random_score == 3:\n",
    "            money += 3\n",
    "        elif random_score == 4:\n",
    "            money += 4\n",
    "        elif random_score == 5:\n",
    "            money += 5\n",
    "        elif random_score == 6:\n",
    "                money += 6\n",
    "    else:\n",
    "        if random_score == 3:\n",
    "            money += 3\n",
    "        elif random_score == 4:\n",
    "            money += 4\n",
    "        elif random_score == 5:\n",
    "            money += 5\n",
    "        else:\n",
    "            money += 6\n",
    "       \n",
    "        \n",
    "mean_gain = money/trials\n",
    "print(mean_gain)"
   ]
  },
  {
   "cell_type": "code",
   "execution_count": 19,
   "metadata": {},
   "outputs": [
    {
     "name": "stdout",
     "output_type": "stream",
     "text": [
      "3.91615\n"
     ]
    }
   ],
   "source": [
    "# перебрасываем кубик при выпадении 1\n",
    "# возможные варианты: 2 3 4 5 6 1 2 3 4 5 6\n",
    "# мат ожидание 5/6(4)+1/6(3,5) = 3,33 + 0,58 = 3,92\n",
    "\n",
    "\n",
    "\n",
    "trials = 100000    # Количество попыток\n",
    "money = 0\n",
    "\n",
    "for i in range(trials):\n",
    "    random_score = np.random.randint(1, 7)    \n",
    "    if random_score == 1:\n",
    "        random_score = np.random.randint(1, 7) \n",
    "        if random_score == 1:\n",
    "            money += 1\n",
    "        elif random_score == 2:\n",
    "            money += 2\n",
    "        elif random_score == 3:\n",
    "            money += 3\n",
    "        elif random_score == 4:\n",
    "            money += 4\n",
    "        elif random_score == 5:\n",
    "            money += 5\n",
    "        elif random_score == 6:\n",
    "                money += 6\n",
    "    else:\n",
    "        if random_score == 2:\n",
    "            money += 2\n",
    "        elif random_score == 3:\n",
    "            money += 3\n",
    "        elif random_score == 4:\n",
    "            money += 4\n",
    "        elif random_score == 5:\n",
    "            money += 5\n",
    "        else:\n",
    "            money += 6\n",
    "       \n",
    "        \n",
    "mean_gain = money/trials\n",
    "print(mean_gain)"
   ]
  },
  {
   "cell_type": "code",
   "execution_count": null,
   "metadata": {},
   "outputs": [],
   "source": []
  }
 ],
 "metadata": {
  "kernelspec": {
   "display_name": "Python 3",
   "language": "python",
   "name": "python3"
  },
  "language_info": {
   "codemirror_mode": {
    "name": "ipython",
    "version": 3
   },
   "file_extension": ".py",
   "mimetype": "text/x-python",
   "name": "python",
   "nbconvert_exporter": "python",
   "pygments_lexer": "ipython3",
   "version": "3.8.3"
  }
 },
 "nbformat": 4,
 "nbformat_minor": 4
}
